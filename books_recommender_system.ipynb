{
 "cells": [
  {
   "cell_type": "code",
   "execution_count": 22,
   "metadata": {},
   "outputs": [],
   "source": [
    "import pandas as pd"
   ]
  },
  {
   "cell_type": "code",
   "execution_count": 23,
   "metadata": {},
   "outputs": [
    {
     "data": {
      "text/html": [
       "<div>\n",
       "<style scoped>\n",
       "    .dataframe tbody tr th:only-of-type {\n",
       "        vertical-align: middle;\n",
       "    }\n",
       "\n",
       "    .dataframe tbody tr th {\n",
       "        vertical-align: top;\n",
       "    }\n",
       "\n",
       "    .dataframe thead th {\n",
       "        text-align: right;\n",
       "    }\n",
       "</style>\n",
       "<table border=\"1\" class=\"dataframe\">\n",
       "  <thead>\n",
       "    <tr style=\"text-align: right;\">\n",
       "      <th></th>\n",
       "      <th>Name</th>\n",
       "      <th>Genre</th>\n",
       "      <th>Description</th>\n",
       "    </tr>\n",
       "  </thead>\n",
       "  <tbody>\n",
       "    <tr>\n",
       "      <th>0</th>\n",
       "      <td>dog heaven</td>\n",
       "      <td>children</td>\n",
       "      <td>in newbery medalist cynthia rylant's classic b...</td>\n",
       "    </tr>\n",
       "    <tr>\n",
       "      <th>1</th>\n",
       "      <td>the saturdays</td>\n",
       "      <td>children</td>\n",
       "      <td>meet the melendys! the four melendy children l...</td>\n",
       "    </tr>\n",
       "    <tr>\n",
       "      <th>2</th>\n",
       "      <td>the legend of rock paper scissors</td>\n",
       "      <td>children</td>\n",
       "      <td>you've played the game. now read the legend of...</td>\n",
       "    </tr>\n",
       "    <tr>\n",
       "      <th>3</th>\n",
       "      <td>leo the littlest seahorse</td>\n",
       "      <td>children</td>\n",
       "      <td>in the warm waters of the coral reef, one hund...</td>\n",
       "    </tr>\n",
       "    <tr>\n",
       "      <th>4</th>\n",
       "      <td>miss mary mack</td>\n",
       "      <td>children</td>\n",
       "      <td>everyone knows some version of this popular ch...</td>\n",
       "    </tr>\n",
       "  </tbody>\n",
       "</table>\n",
       "</div>"
      ],
      "text/plain": [
       "                                Name     Genre  \\\n",
       "0                         dog heaven  children   \n",
       "1                      the saturdays  children   \n",
       "2  the legend of rock paper scissors  children   \n",
       "3          leo the littlest seahorse  children   \n",
       "4                     miss mary mack  children   \n",
       "\n",
       "                                         Description  \n",
       "0  in newbery medalist cynthia rylant's classic b...  \n",
       "1  meet the melendys! the four melendy children l...  \n",
       "2  you've played the game. now read the legend of...  \n",
       "3  in the warm waters of the coral reef, one hund...  \n",
       "4  everyone knows some version of this popular ch...  "
      ]
     },
     "execution_count": 23,
     "metadata": {},
     "output_type": "execute_result"
    }
   ],
   "source": [
    "# Stored the dataset csv books.csv in a pandas DataFrame books\n",
    "\n",
    "books = pd.read_csv('books.csv');\n",
    "books.head()"
   ]
  },
  {
   "cell_type": "code",
   "execution_count": 24,
   "metadata": {},
   "outputs": [],
   "source": [
    "books.isnull().sum()                                              # checks for total number of null values\n",
    "books.dropna(inplace=True)                                        # drops null values\n",
    "books.duplicated().sum()                                          # checks for duplicate values \n",
    "books = books.drop_duplicates(subset=['Name', 'Description'])     # drops duplicate values"
   ]
  },
  {
   "cell_type": "code",
   "execution_count": 25,
   "metadata": {},
   "outputs": [
    {
     "data": {
      "text/html": [
       "<div>\n",
       "<style scoped>\n",
       "    .dataframe tbody tr th:only-of-type {\n",
       "        vertical-align: middle;\n",
       "    }\n",
       "\n",
       "    .dataframe tbody tr th {\n",
       "        vertical-align: top;\n",
       "    }\n",
       "\n",
       "    .dataframe thead th {\n",
       "        text-align: right;\n",
       "    }\n",
       "</style>\n",
       "<table border=\"1\" class=\"dataframe\">\n",
       "  <thead>\n",
       "    <tr style=\"text-align: right;\">\n",
       "      <th></th>\n",
       "      <th>Name</th>\n",
       "      <th>Genre</th>\n",
       "      <th>Description</th>\n",
       "    </tr>\n",
       "  </thead>\n",
       "  <tbody>\n",
       "    <tr>\n",
       "      <th>0</th>\n",
       "      <td>dog heaven</td>\n",
       "      <td>[children]</td>\n",
       "      <td>[in, newbery, medalist, cynthia, rylant's, cla...</td>\n",
       "    </tr>\n",
       "    <tr>\n",
       "      <th>1</th>\n",
       "      <td>the saturdays</td>\n",
       "      <td>[children]</td>\n",
       "      <td>[meet, the, melendys!, the, four, melendy, chi...</td>\n",
       "    </tr>\n",
       "    <tr>\n",
       "      <th>2</th>\n",
       "      <td>the legend of rock paper scissors</td>\n",
       "      <td>[children]</td>\n",
       "      <td>[you've, played, the, game., now, read, the, l...</td>\n",
       "    </tr>\n",
       "    <tr>\n",
       "      <th>3</th>\n",
       "      <td>leo the littlest seahorse</td>\n",
       "      <td>[children]</td>\n",
       "      <td>[in, the, warm, waters, of, the, coral, reef,,...</td>\n",
       "    </tr>\n",
       "    <tr>\n",
       "      <th>4</th>\n",
       "      <td>miss mary mack</td>\n",
       "      <td>[children]</td>\n",
       "      <td>[everyone, knows, some, version, of, this, pop...</td>\n",
       "    </tr>\n",
       "  </tbody>\n",
       "</table>\n",
       "</div>"
      ],
      "text/plain": [
       "                                Name       Genre  \\\n",
       "0                         dog heaven  [children]   \n",
       "1                      the saturdays  [children]   \n",
       "2  the legend of rock paper scissors  [children]   \n",
       "3          leo the littlest seahorse  [children]   \n",
       "4                     miss mary mack  [children]   \n",
       "\n",
       "                                         Description  \n",
       "0  [in, newbery, medalist, cynthia, rylant's, cla...  \n",
       "1  [meet, the, melendys!, the, four, melendy, chi...  \n",
       "2  [you've, played, the, game., now, read, the, l...  \n",
       "3  [in, the, warm, waters, of, the, coral, reef,,...  \n",
       "4  [everyone, knows, some, version, of, this, pop...  "
      ]
     },
     "execution_count": 25,
     "metadata": {},
     "output_type": "execute_result"
    }
   ],
   "source": [
    "# Converts the string to a list for better processing\n",
    "\n",
    "books['Genre'] = books['Genre'].apply(lambda x:x.split())\n",
    "books['Description'] = books['Description'].apply(lambda X:X.split())\n",
    "books.head()"
   ]
  },
  {
   "cell_type": "code",
   "execution_count": 26,
   "metadata": {},
   "outputs": [
    {
     "data": {
      "text/plain": [
       "0    [in, newbery, medalist, cynthia, rylant's, cla...\n",
       "1    [meet, the, melendys!, the, four, melendy, chi...\n",
       "2    [you've, played, the, game., now, read, the, l...\n",
       "3    [in, the, warm, waters, of, the, coral, reef,,...\n",
       "4    [everyone, knows, some, version, of, this, pop...\n",
       "Name: Tags, dtype: object"
      ]
     },
     "execution_count": 26,
     "metadata": {},
     "output_type": "execute_result"
    }
   ],
   "source": [
    "# Creates a new column Tags which is a combination of two existing columns - Description, Genre\n",
    "\n",
    "books['Tags'] = books['Description'] + books['Genre']\n",
    "books['Tags'].head()"
   ]
  },
  {
   "cell_type": "code",
   "execution_count": 27,
   "metadata": {},
   "outputs": [
    {
     "data": {
      "text/html": [
       "<div>\n",
       "<style scoped>\n",
       "    .dataframe tbody tr th:only-of-type {\n",
       "        vertical-align: middle;\n",
       "    }\n",
       "\n",
       "    .dataframe tbody tr th {\n",
       "        vertical-align: top;\n",
       "    }\n",
       "\n",
       "    .dataframe thead th {\n",
       "        text-align: right;\n",
       "    }\n",
       "</style>\n",
       "<table border=\"1\" class=\"dataframe\">\n",
       "  <thead>\n",
       "    <tr style=\"text-align: right;\">\n",
       "      <th></th>\n",
       "      <th>Name</th>\n",
       "      <th>Genre</th>\n",
       "      <th>Description</th>\n",
       "      <th>Tags</th>\n",
       "    </tr>\n",
       "  </thead>\n",
       "  <tbody>\n",
       "    <tr>\n",
       "      <th>0</th>\n",
       "      <td>Dog Heaven</td>\n",
       "      <td>children</td>\n",
       "      <td>In newbery medalist cynthia rylant's classic b...</td>\n",
       "      <td>in newbery medalist cynthia rylant's classic b...</td>\n",
       "    </tr>\n",
       "    <tr>\n",
       "      <th>1</th>\n",
       "      <td>The Saturdays</td>\n",
       "      <td>children</td>\n",
       "      <td>Meet the melendys! the four melendy children l...</td>\n",
       "      <td>meet the melendys! the four melendy children l...</td>\n",
       "    </tr>\n",
       "    <tr>\n",
       "      <th>2</th>\n",
       "      <td>The Legend Of Rock Paper Scissors</td>\n",
       "      <td>children</td>\n",
       "      <td>You've played the game. now read the legend of...</td>\n",
       "      <td>you've played the game. now read the legend of...</td>\n",
       "    </tr>\n",
       "    <tr>\n",
       "      <th>3</th>\n",
       "      <td>Leo The Littlest Seahorse</td>\n",
       "      <td>children</td>\n",
       "      <td>In the warm waters of the coral reef, one hund...</td>\n",
       "      <td>in the warm waters of the coral reef, one hund...</td>\n",
       "    </tr>\n",
       "    <tr>\n",
       "      <th>4</th>\n",
       "      <td>Miss Mary Mack</td>\n",
       "      <td>children</td>\n",
       "      <td>Everyone knows some version of this popular ch...</td>\n",
       "      <td>everyone knows some version of this popular ch...</td>\n",
       "    </tr>\n",
       "  </tbody>\n",
       "</table>\n",
       "</div>"
      ],
      "text/plain": [
       "                                Name     Genre  \\\n",
       "0                         Dog Heaven  children   \n",
       "1                      The Saturdays  children   \n",
       "2  The Legend Of Rock Paper Scissors  children   \n",
       "3          Leo The Littlest Seahorse  children   \n",
       "4                     Miss Mary Mack  children   \n",
       "\n",
       "                                         Description  \\\n",
       "0  In newbery medalist cynthia rylant's classic b...   \n",
       "1  Meet the melendys! the four melendy children l...   \n",
       "2  You've played the game. now read the legend of...   \n",
       "3  In the warm waters of the coral reef, one hund...   \n",
       "4  Everyone knows some version of this popular ch...   \n",
       "\n",
       "                                                Tags  \n",
       "0  in newbery medalist cynthia rylant's classic b...  \n",
       "1  meet the melendys! the four melendy children l...  \n",
       "2  you've played the game. now read the legend of...  \n",
       "3  in the warm waters of the coral reef, one hund...  \n",
       "4  everyone knows some version of this popular ch...  "
      ]
     },
     "execution_count": 27,
     "metadata": {},
     "output_type": "execute_result"
    }
   ],
   "source": [
    "# Creates a new DataFrame called modifies_books_data by selecting the columns Name, Genre, Description from existing DataFrame Books\n",
    "\n",
    "books['Name'] = books['Name'].apply(lambda x: x.title())                    # Converts font of Name to Title Case\n",
    "books['Tags'] = books['Tags'].apply(lambda x:\" \".join(x))                   # Converts list to a single string\n",
    "books['Description'] = books['Description'].apply(lambda x:\" \".join(x))     # Converts list to a single string\n",
    "books['Description'] = books['Description'].apply(lambda x:x.capitalize())     # Converts list to a single string\n",
    "books['Genre'] = books['Genre'].apply(lambda x:\" \".join(x))                 # Converts list to a single string\n",
    "books['Tags'] = books['Tags'].apply(lambda x:x.lower())                     # Converts font style of Tags to be lower\n",
    "books.head()"
   ]
  },
  {
   "cell_type": "code",
   "execution_count": 28,
   "metadata": {},
   "outputs": [],
   "source": [
    "# A UDF to stem the data (Stemming - Text normalization Technique)\n",
    "# Eg: running - run\n",
    "\n",
    "from nltk.stem.porter import PorterStemmer\n",
    "ps = PorterStemmer()\n",
    "\n",
    "def stem(text):\n",
    "    y=[]\n",
    "\n",
    "    for i in text.split():\n",
    "        y.append(ps.stem(i))\n",
    "\n",
    "    return \" \".join(y)\n",
    "\n",
    "books['Tags'] = books['Tags'].apply(stem)"
   ]
  },
  {
   "cell_type": "code",
   "execution_count": 29,
   "metadata": {},
   "outputs": [
    {
     "data": {
      "text/plain": [
       "array(['000', '10', '100', ..., 'zombi', 'zone', 'zoo'], dtype=object)"
      ]
     },
     "execution_count": 29,
     "metadata": {},
     "output_type": "execute_result"
    }
   ],
   "source": [
    "# Converts collection of text documents into matrices\n",
    "\n",
    "from sklearn.feature_extraction.text import CountVectorizer\n",
    "cv = CountVectorizer(max_features=5000, stop_words='english')\n",
    "\n",
    "# Creates vector relation between the column Tags\n",
    "\n",
    "vectors = cv.fit_transform(books['Tags']).toarray()\n",
    "cv.get_feature_names_out()"
   ]
  },
  {
   "cell_type": "code",
   "execution_count": 30,
   "metadata": {},
   "outputs": [],
   "source": [
    "# Finds the distance between the vectors with each other\n",
    "\n",
    "from sklearn.metrics.pairwise import cosine_similarity\n",
    "similarity = cosine_similarity(vectors)"
   ]
  },
  {
   "cell_type": "code",
   "execution_count": 31,
   "metadata": {},
   "outputs": [],
   "source": [
    "# A UDF which takes name of book as an argument / parameter and returns names of books which are closest to the provided book based on similarity matrix\n",
    "\n",
    "def recommend(book):\n",
    "    book_index = books[books['Name'] == book].index[0]\n",
    "    book_genre = books.iloc[book_index]['Genre']\n",
    "\n",
    "    same_genre_books = books[books['Genre'] == book_genre]\n",
    "\n",
    "    distances = similarity[book_index][same_genre_books.index]\n",
    "    books_list = sorted(list(enumerate(distances)), reverse=True, key=lambda x: x[1])[1:6]\n",
    "\n",
    "    for i in books_list:\n",
    "        print(same_genre_books.iloc[i[0]].Name)"
   ]
  },
  {
   "cell_type": "code",
   "execution_count": 32,
   "metadata": {},
   "outputs": [
    {
     "name": "stdout",
     "output_type": "stream",
     "text": [
      "Carson'S Conspiracy (Sir John Appleby, #35)\n",
      "A Reason To Stay (Heroes #1)\n",
      "The Elements\n",
      "The Wife Between Us\n",
      "Gone Girl\n"
     ]
    }
   ],
   "source": [
    "recommend('Verity')"
   ]
  },
  {
   "cell_type": "code",
   "execution_count": 33,
   "metadata": {},
   "outputs": [],
   "source": [
    "# Importing modified_books_data DataFrame (in the form of dictionary for ease) and similarity matrix\n",
    "\n",
    "import pickle\n",
    "pickle.dump(books.to_dict(), open('book_dict.pkl', 'wb'))\n",
    "pickle.dump(similarity, open('similarity.pkl', 'wb'))"
   ]
  }
 ],
 "metadata": {
  "kernelspec": {
   "display_name": "Python 3",
   "language": "python",
   "name": "python3"
  },
  "language_info": {
   "codemirror_mode": {
    "name": "ipython",
    "version": 3
   },
   "file_extension": ".py",
   "mimetype": "text/x-python",
   "name": "python",
   "nbconvert_exporter": "python",
   "pygments_lexer": "ipython3",
   "version": "3.11.5"
  }
 },
 "nbformat": 4,
 "nbformat_minor": 2
}
